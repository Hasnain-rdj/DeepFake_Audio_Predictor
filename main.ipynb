{
 "cells": [
  {
   "cell_type": "code",
   "execution_count": 49,
   "id": "1962c553",
   "metadata": {},
   "outputs": [],
   "source": [
    "# Import required libraries\n",
    "import numpy as np\n",
    "import pandas as pd\n",
    "from sklearn.model_selection import train_test_split\n",
    "from sklearn.preprocessing import StandardScaler\n",
    "from sklearn.svm import SVC\n",
    "from sklearn.linear_model import LogisticRegression\n",
    "from sklearn.neural_network import MLPClassifier\n",
    "from sklearn.metrics import accuracy_score, precision_score, recall_score, f1_score, roc_auc_score, classification_report\n",
    "from sklearn.feature_extraction.text import TfidfVectorizer\n",
    "import tensorflow as tf\n",
    "from tensorflow.keras import layers, models\n",
    "import os\n",
    "import librosa\n",
    "import joblib"
   ]
  },
  {
   "cell_type": "code",
   "execution_count": 50,
   "id": "9960f155",
   "metadata": {},
   "outputs": [
    {
     "name": "stdout",
     "output_type": "stream",
     "text": [
      "Loaded dataset.csv with shape: (1386, 8)\n",
      "                                              report  type_blocker  \\\n",
      "0  The mention of Fix Super Stream Example in Doc...             0   \n",
      "1  It seems like you need a concise summary relat...             0   \n",
      "2  The issue AMQP 838 opened by Gary Russell invo...             0   \n",
      "3  I m unable to access external content directly...             0   \n",
      "4  In the discussion around AMQP 815 https jira s...             0   \n",
      "\n",
      "   type_regression  type_bug  type_documentation  type_enhancement  type_task  \\\n",
      "0                0         1                   1                 0          0   \n",
      "1                0         1                   1                 0          0   \n",
      "2                0         1                   1                 0          0   \n",
      "3                0         1                   1                 0          0   \n",
      "4                0         1                   1                 0          0   \n",
      "\n",
      "   type_dependency_upgrade  \n",
      "0                        0  \n",
      "1                        0  \n",
      "2                        0  \n",
      "3                        0  \n",
      "4                        0  \n"
     ]
    }
   ],
   "source": [
    "# Load the dataset CSV\n",
    "df = pd.read_csv('dataset.csv')\n",
    "print('Loaded dataset.csv with shape:', df.shape)\n",
    "print(df.head())"
   ]
  },
  {
   "cell_type": "code",
   "execution_count": 51,
   "id": "da1a5fca",
   "metadata": {},
   "outputs": [],
   "source": [
    "# Text feature extraction using TF-IDF\n",
    "X_text = df['report']\n",
    "y = df['type_bug']  # Change this to another label column if needed\n",
    "\n",
    "vectorizer = TfidfVectorizer(max_features=1000)\n",
    "X = vectorizer.fit_transform(X_text).toarray()"
   ]
  },
  {
   "cell_type": "code",
   "execution_count": 52,
   "id": "be20f25a",
   "metadata": {},
   "outputs": [],
   "source": [
    "# Split and scale features\n",
    "X_train, X_test, y_train, y_test = train_test_split(X, y, test_size=0.2, random_state=42, stratify=y)\n",
    "scaler = StandardScaler(with_mean=False)  # with_mean=False for sparse data\n",
    "X_train_scaled = scaler.fit_transform(X_train)\n",
    "X_test_scaled = scaler.transform(X_test)"
   ]
  },
  {
   "cell_type": "code",
   "execution_count": 53,
   "id": "0c18ffaf",
   "metadata": {},
   "outputs": [],
   "source": [
    "# SVM Classifier\n",
    "svm_clf = SVC(kernel='rbf', probability=True, random_state=42)\n",
    "svm_clf.fit(X_train_scaled, y_train)\n",
    "svm_pred = svm_clf.predict(X_test_scaled)\n",
    "svm_proba = svm_clf.predict_proba(X_test_scaled)[:,1]"
   ]
  },
  {
   "cell_type": "code",
   "execution_count": 54,
   "id": "d32c11d8",
   "metadata": {},
   "outputs": [],
   "source": [
    "# Logistic Regression\n",
    "logreg = LogisticRegression(max_iter=1000, random_state=42)\n",
    "logreg.fit(X_train_scaled, y_train)\n",
    "logreg_pred = logreg.predict(X_test_scaled)\n",
    "logreg_proba = logreg.predict_proba(X_test_scaled)[:,1]"
   ]
  },
  {
   "cell_type": "code",
   "execution_count": 55,
   "id": "aad80a98",
   "metadata": {},
   "outputs": [],
   "source": [
    "# Single-Layer Perceptron\n",
    "slp = MLPClassifier(hidden_layer_sizes=(32,), max_iter=500, random_state=42)\n",
    "slp.fit(X_train_scaled, y_train)\n",
    "slp_pred = slp.predict(X_test_scaled)\n",
    "slp_proba = slp.predict_proba(X_test_scaled)[:,1]"
   ]
  },
  {
   "cell_type": "code",
   "execution_count": 56,
   "id": "3ceaeed0",
   "metadata": {},
   "outputs": [
    {
     "name": "stdout",
     "output_type": "stream",
     "text": [
      "\u001b[1m9/9\u001b[0m \u001b[32m━━━━━━━━━━━━━━━━━━━━\u001b[0m\u001b[37m\u001b[0m \u001b[1m0s\u001b[0m 7ms/step \n",
      "\u001b[1m9/9\u001b[0m \u001b[32m━━━━━━━━━━━━━━━━━━━━\u001b[0m\u001b[37m\u001b[0m \u001b[1m0s\u001b[0m 7ms/step \n",
      "\u001b[1m9/9\u001b[0m \u001b[32m━━━━━━━━━━━━━━━━━━━━\u001b[0m\u001b[37m\u001b[0m \u001b[1m0s\u001b[0m 4ms/step \n",
      "\u001b[1m9/9\u001b[0m \u001b[32m━━━━━━━━━━━━━━━━━━━━\u001b[0m\u001b[37m\u001b[0m \u001b[1m0s\u001b[0m 4ms/step \n"
     ]
    }
   ],
   "source": [
    "# Deep Neural Network (DNN) with 2 hidden layers\n",
    "dnn = models.Sequential([\n",
    "    layers.Input(shape=(X_train_scaled.shape[1],)),\n",
    "    layers.Dense(64, activation='relu'),\n",
    "    layers.Dense(32, activation='relu'),\n",
    "    layers.Dense(1, activation='sigmoid')\n",
    "])\n",
    "dnn.compile(optimizer='adam', loss='binary_crossentropy', metrics=['accuracy'])\n",
    "dnn.fit(X_train_scaled, y_train, epochs=20, batch_size=32, validation_split=0.1, verbose=0)\n",
    "dnn_pred = (dnn.predict(X_test_scaled) > 0.5).astype(int).flatten()\n",
    "dnn_proba = dnn.predict(X_test_scaled).flatten()"
   ]
  },
  {
   "cell_type": "code",
   "execution_count": 57,
   "id": "fe7be5da",
   "metadata": {},
   "outputs": [
    {
     "name": "stdout",
     "output_type": "stream",
     "text": [
      "--- SVM ---\n",
      "Accuracy: 0.7338129496402878\n",
      "Precision: 0.7313432835820896\n",
      "Recall: 0.7205882352941176\n",
      "F1-Score: 0.725925925925926\n",
      "AUC-ROC: 0.7748032311516155\n",
      "              precision    recall  f1-score   support\n",
      "\n",
      "           0       0.74      0.75      0.74       142\n",
      "           1       0.73      0.72      0.73       136\n",
      "\n",
      "    accuracy                           0.73       278\n",
      "   macro avg       0.73      0.73      0.73       278\n",
      "weighted avg       0.73      0.73      0.73       278\n",
      "\n",
      "--- Logistic Regression ---\n",
      "Accuracy: 0.6510791366906474\n",
      "Precision: 0.6423357664233577\n",
      "Recall: 0.6470588235294118\n",
      "F1-Score: 0.6446886446886447\n",
      "AUC-ROC: 0.7063483844241922\n",
      "              precision    recall  f1-score   support\n",
      "\n",
      "           0       0.66      0.65      0.66       142\n",
      "           1       0.64      0.65      0.64       136\n",
      "\n",
      "    accuracy                           0.65       278\n",
      "   macro avg       0.65      0.65      0.65       278\n",
      "weighted avg       0.65      0.65      0.65       278\n",
      "\n",
      "--- Single-Layer Perceptron ---\n",
      "Accuracy: 0.6798561151079137\n",
      "Precision: 0.6715328467153284\n",
      "Recall: 0.6764705882352942\n",
      "F1-Score: 0.673992673992674\n",
      "AUC-ROC: 0.7452361226180614\n",
      "              precision    recall  f1-score   support\n",
      "\n",
      "           0       0.69      0.68      0.69       142\n",
      "           1       0.67      0.68      0.67       136\n",
      "\n",
      "    accuracy                           0.68       278\n",
      "   macro avg       0.68      0.68      0.68       278\n",
      "weighted avg       0.68      0.68      0.68       278\n",
      "\n",
      "--- Deep Neural Network ---\n",
      "Accuracy: 0.697841726618705\n",
      "Precision: 0.703125\n",
      "Recall: 0.6617647058823529\n",
      "F1-Score: 0.6818181818181818\n",
      "AUC-ROC: 0.7516570008285004\n",
      "              precision    recall  f1-score   support\n",
      "\n",
      "           0       0.69      0.73      0.71       142\n",
      "           1       0.70      0.66      0.68       136\n",
      "\n",
      "    accuracy                           0.70       278\n",
      "   macro avg       0.70      0.70      0.70       278\n",
      "weighted avg       0.70      0.70      0.70       278\n",
      "\n"
     ]
    }
   ],
   "source": [
    "def print_metrics(y_true, y_pred, y_proba, model_name):\n",
    "    print(f'--- {model_name} ---')\n",
    "    print('Accuracy:', accuracy_score(y_true, y_pred))\n",
    "    print('Precision:', precision_score(y_true, y_pred))\n",
    "    print('Recall:', recall_score(y_true, y_pred))\n",
    "    print('F1-Score:', f1_score(y_true, y_pred))\n",
    "    print('AUC-ROC:', roc_auc_score(y_true, y_proba))\n",
    "    print(classification_report(y_true, y_pred))\n",
    "\n",
    "print_metrics(y_test, svm_pred, svm_proba, 'SVM')\n",
    "print_metrics(y_test, logreg_pred, logreg_proba, 'Logistic Regression')\n",
    "print_metrics(y_test, slp_pred, slp_proba, 'Single-Layer Perceptron')\n",
    "print_metrics(y_test, dnn_pred, dnn_proba, 'Deep Neural Network')"
   ]
  },
  {
   "cell_type": "markdown",
   "id": "8c9097a8",
   "metadata": {},
   "source": [
    "# Multi-Label Defect Prediction (Multi-Label Classification)\n",
    "This section covers preprocessing, model building, training, and evaluation for multi-label defect prediction using the provided dataset."
   ]
  },
  {
   "cell_type": "markdown",
   "id": "0e4ae740",
   "metadata": {},
   "source": [
    "## 1. Preprocessing\n",
    "- Analyze missing values, feature selection, and scaling.\n",
    "- Understand label distribution (imbalance check)."
   ]
  },
  {
   "cell_type": "code",
   "execution_count": 58,
   "id": "8bdd67c5",
   "metadata": {},
   "outputs": [
    {
     "name": "stdout",
     "output_type": "stream",
     "text": [
      "Missing values per column:\n",
      "report                     0\n",
      "type_blocker               0\n",
      "type_regression            0\n",
      "type_bug                   0\n",
      "type_documentation         0\n",
      "type_enhancement           0\n",
      "type_task                  0\n",
      "type_dependency_upgrade    0\n",
      "dtype: int64\n",
      "Label distribution:\n",
      "type_blocker                134\n",
      "type_regression             115\n",
      "type_bug                    676\n",
      "type_documentation         1134\n",
      "type_enhancement            676\n",
      "type_task                     0\n",
      "type_dependency_upgrade      43\n",
      "dtype: int64\n"
     ]
    },
    {
     "data": {
      "image/png": "[encoded data removed]",
      "text/plain": [
       "<Figure size 1000x500 with 1 Axes>"
      ]
     },
     "metadata": {},
     "output_type": "display_data"
    }
   ],
   "source": [
    "import pandas as pd\n",
    "import numpy as np\n",
    "from sklearn.model_selection import train_test_split\n",
    "from sklearn.feature_extraction.text import TfidfVectorizer\n",
    "import matplotlib.pyplot as plt\n",
    "import seaborn as sns\n",
    "\n",
    "df = pd.read_csv('dataset.csv')\n",
    "print('Missing values per column:')\n",
    "print(df.isnull().sum())\n",
    "\n",
    "label_cols = [col for col in df.columns if col.startswith('type_')]\n",
    "print('Label distribution:')\n",
    "print(df[label_cols].sum())\n",
    "\n",
    "# Plot label distribution\n",
    "label_sums = df[label_cols].sum().sort_values(ascending=False)\n",
    "plt.figure(figsize=(10, 5))\n",
    "sns.barplot(x=label_sums.index, y=label_sums.values)\n",
    "plt.title('Label Distribution in Dataset')\n",
    "plt.ylabel('Count')\n",
    "plt.xlabel('Label')\n",
    "plt.xticks(rotation=45)\n",
    "plt.tight_layout()\n",
    "plt.show()\n",
    "\n",
    "vectorizer = TfidfVectorizer(max_features=1000)\n",
    "X = vectorizer.fit_transform(df['report'])\n",
    "Y = df[label_cols].values"
   ]
  },
  {
   "cell_type": "markdown",
   "id": "d6dcb972",
   "metadata": {},
   "source": [
    "## 2. Model Building & Training\n",
    "We will train Logistic Regression, SVM, Perceptron (with online learning), and a Deep Neural Network for multi-label classification."
   ]
  },
  {
   "cell_type": "code",
   "execution_count": 59,
   "id": "ca671777",
   "metadata": {},
   "outputs": [],
   "source": [
    "# Split into train/test sets\n",
    "X_train, X_test, Y_train, Y_test = train_test_split(X, Y, test_size=0.2, random_state=42)"
   ]
  },
  {
   "cell_type": "code",
   "execution_count": 60,
   "id": "6293f191",
   "metadata": {},
   "outputs": [
    {
     "name": "stderr",
     "output_type": "stream",
     "text": [
      "c:\\Users\\hasna\\AppData\\Local\\Programs\\Python\\Python310\\lib\\site-packages\\sklearn\\multiclass.py:90: UserWarning: Label not 5 is present in all training examples.\n",
      "  warnings.warn(\n",
      "c:\\Users\\hasna\\AppData\\Local\\Programs\\Python\\Python310\\lib\\site-packages\\sklearn\\multiclass.py:90: UserWarning: Label not 5 is present in all training examples.\n",
      "  warnings.warn(\n"
     ]
    }
   ],
   "source": [
    "from sklearn.linear_model import LogisticRegression, Perceptron\n",
    "from sklearn.svm import LinearSVC\n",
    "from sklearn.multiclass import OneVsRestClassifier\n",
    "\n",
    "# Logistic Regression\n",
    "logreg = OneVsRestClassifier(LogisticRegression(max_iter=1000))\n",
    "logreg.fit(X_train, Y_train)\n",
    "Y_pred_logreg = logreg.predict(X_test)\n",
    "\n",
    "# SVM\n",
    "svm = OneVsRestClassifier(LinearSVC())\n",
    "svm.fit(X_train, Y_train)\n",
    "Y_pred_svm = svm.predict(X_test)"
   ]
  },
  {
   "cell_type": "code",
   "execution_count": 61,
   "id": "2a3fc3a2",
   "metadata": {},
   "outputs": [],
   "source": [
    "from sklearn.linear_model import Perceptron\n",
    "from sklearn.multioutput import MultiOutputClassifier\n",
    "import numpy as np\n",
    "\n",
    "perc = MultiOutputClassifier(Perceptron())\n",
    "n_labels = Y_train.shape[1]\n",
    "classes = [np.array([0, 1])] * n_labels\n",
    "\n",
    "# Convert to dense numpy arrays for single samples\n",
    "X0 = X_train[0].toarray().reshape(1, -1)\n",
    "Y0 = Y_train[0].reshape(1, -1)\n",
    "perc.partial_fit(X0, Y0, classes=classes)\n",
    "\n",
    "for i in range(1, X_train.shape[0]):\n",
    "    Xi = X_train[i].toarray().reshape(1, -1)\n",
    "    Yi = Y_train[i].reshape(1, -1)\n",
    "    perc.partial_fit(Xi, Yi)\n",
    "\n",
    "Y_pred_perc = perc.predict(X_test.toarray())"
   ]
  },
  {
   "cell_type": "code",
   "execution_count": 62,
   "id": "18e3b073",
   "metadata": {},
   "outputs": [
    {
     "name": "stdout",
     "output_type": "stream",
     "text": [
      "\u001b[1m9/9\u001b[0m \u001b[32m━━━━━━━━━━━━━━━━━━━━\u001b[0m\u001b[37m\u001b[0m \u001b[1m0s\u001b[0m 7ms/step \n",
      "\u001b[1m9/9\u001b[0m \u001b[32m━━━━━━━━━━━━━━━━━━━━\u001b[0m\u001b[37m\u001b[0m \u001b[1m0s\u001b[0m 7ms/step \n"
     ]
    }
   ],
   "source": [
    "# Deep Neural Network (DNN)\n",
    "import tensorflow as tf\n",
    "from tensorflow.keras import layers, models\n",
    "\n",
    "dnn = models.Sequential([\n",
    "    layers.Input(shape=(X_train.shape[1],)),\n",
    "    layers.Dense(128, activation='relu'),\n",
    "    layers.Dense(len(label_cols), activation='sigmoid')\n",
    "])\n",
    "dnn.compile(optimizer='adam', loss='binary_crossentropy', metrics=['accuracy'])\n",
    "dnn.fit(X_train.toarray(), Y_train, epochs=10, batch_size=16, validation_split=0.1, verbose=0)\n",
    "Y_pred_dnn = (dnn.predict(X_test.toarray()) > 0.5).astype(int)"
   ]
  },
  {
   "cell_type": "markdown",
   "id": "a9ea9912",
   "metadata": {},
   "source": [
    "## 3. Evaluation (Multi-label Metrics)"
   ]
  },
  {
   "cell_type": "code",
   "execution_count": 63,
   "id": "defe96c7",
   "metadata": {},
   "outputs": [
    {
     "name": "stdout",
     "output_type": "stream",
     "text": [
      "--- Logistic Regression ---\n",
      "Hamming Loss: 0.10020554984583761\n",
      "Micro-F1: 0.8199445983379502\n",
      "Macro-F1: 0.41855828136862555\n",
      "Precision@3: 0.5491606714628298\n",
      "--- SVM ---\n",
      "Hamming Loss: 0.10688591983556012\n",
      "Micro-F1: 0.8115942028985508\n",
      "Macro-F1: 0.5443954508554488\n",
      "Precision@3: 0.5515587529976019\n",
      "--- Perceptron ---\n",
      "Hamming Loss: 0.16906474820143885\n",
      "Micro-F1: 0.7091069849690539\n",
      "Macro-F1: 0.4464042119083664\n",
      "Precision@3: 0.49160671462829736\n",
      "--- DNN ---\n",
      "Hamming Loss: 0.09815005138746145\n",
      "Micro-F1: 0.8252516010978957\n",
      "Macro-F1: 0.5309428780978728\n",
      "Precision@3: 0.5563549160671463\n"
     ]
    },
    {
     "name": "stderr",
     "output_type": "stream",
     "text": [
      "c:\\Users\\hasna\\AppData\\Local\\Programs\\Python\\Python310\\lib\\site-packages\\sklearn\\metrics\\_classification.py:1565: UndefinedMetricWarning: F-score is ill-defined and being set to 0.0 in labels with no true nor predicted samples. Use `zero_division` parameter to control this behavior.\n",
      "  _warn_prf(average, modifier, f\"{metric.capitalize()} is\", len(result))\n",
      "c:\\Users\\hasna\\AppData\\Local\\Programs\\Python\\Python310\\lib\\site-packages\\sklearn\\metrics\\_classification.py:1565: UndefinedMetricWarning: F-score is ill-defined and being set to 0.0 in labels with no true nor predicted samples. Use `zero_division` parameter to control this behavior.\n",
      "  _warn_prf(average, modifier, f\"{metric.capitalize()} is\", len(result))\n",
      "c:\\Users\\hasna\\AppData\\Local\\Programs\\Python\\Python310\\lib\\site-packages\\sklearn\\metrics\\_classification.py:1565: UndefinedMetricWarning: F-score is ill-defined and being set to 0.0 in labels with no true nor predicted samples. Use `zero_division` parameter to control this behavior.\n",
      "  _warn_prf(average, modifier, f\"{metric.capitalize()} is\", len(result))\n",
      "c:\\Users\\hasna\\AppData\\Local\\Programs\\Python\\Python310\\lib\\site-packages\\sklearn\\metrics\\_classification.py:1565: UndefinedMetricWarning: F-score is ill-defined and being set to 0.0 in labels with no true nor predicted samples. Use `zero_division` parameter to control this behavior.\n",
      "  _warn_prf(average, modifier, f\"{metric.capitalize()} is\", len(result))\n"
     ]
    }
   ],
   "source": [
    "from sklearn.metrics import hamming_loss, f1_score, precision_score\n",
    "\n",
    "def precision_at_k(y_true, y_pred, k=3):\n",
    "    top_k = np.argsort(y_pred, axis=1)[:, -k:]\n",
    "    hits = [y_true[i, top_k[i]].sum() for i in range(y_true.shape[0])]\n",
    "    return np.mean(hits) / k\n",
    "\n",
    "print('--- Logistic Regression ---')\n",
    "print('Hamming Loss:', hamming_loss(Y_test, Y_pred_logreg))\n",
    "print('Micro-F1:', f1_score(Y_test, Y_pred_logreg, average='micro'))\n",
    "print('Macro-F1:', f1_score(Y_test, Y_pred_logreg, average='macro'))\n",
    "print('Precision@3:', precision_at_k(Y_test, Y_pred_logreg, k=3))\n",
    "\n",
    "print('--- SVM ---')\n",
    "print('Hamming Loss:', hamming_loss(Y_test, Y_pred_svm))\n",
    "print('Micro-F1:', f1_score(Y_test, Y_pred_svm, average='micro'))\n",
    "print('Macro-F1:', f1_score(Y_test, Y_pred_svm, average='macro'))\n",
    "print('Precision@3:', precision_at_k(Y_test, Y_pred_svm, k=3))\n",
    "\n",
    "print('--- Perceptron ---')\n",
    "print('Hamming Loss:', hamming_loss(Y_test, Y_pred_perc))\n",
    "print('Micro-F1:', f1_score(Y_test, Y_pred_perc, average='micro'))\n",
    "print('Macro-F1:', f1_score(Y_test, Y_pred_perc, average='macro'))\n",
    "print('Precision@3:', precision_at_k(Y_test, Y_pred_perc, k=3))\n",
    "\n",
    "print('--- DNN ---')\n",
    "print('Hamming Loss:', hamming_loss(Y_test, Y_pred_dnn))\n",
    "print('Micro-F1:', f1_score(Y_test, Y_pred_dnn, average='micro'))\n",
    "print('Macro-F1:', f1_score(Y_test, Y_pred_dnn, average='macro'))\n",
    "print('Precision@3:', precision_at_k(Y_test, Y_pred_dnn, k=3))"
   ]
  },
  {
   "cell_type": "code",
   "execution_count": 64,
   "id": "e54b5a7b",
   "metadata": {},
   "outputs": [
    {
     "name": "stderr",
     "output_type": "stream",
     "text": [
      "WARNING:absl:You are saving your model as an HDF5 file via `model.save()` or `keras.saving.save_model(model)`. This file format is considered legacy. We recommend using instead the native Keras format, e.g. `model.save('my_model.keras')` or `keras.saving.save_model(model, 'my_model.keras')`. \n"
     ]
    }
   ],
   "source": [
    "import joblib\n",
    "\n",
    "# Save vectorizer and scikit-learn models for defect prediction\n",
    "joblib.dump(vectorizer, \"vectorizer.pkl\")\n",
    "joblib.dump(logreg, \"logreg_model.pkl\")\n",
    "joblib.dump(svm, \"svm_model.pkl\")\n",
    "joblib.dump(perc, \"perc_model.pkl\")\n",
    "\n",
    "# Save DNN for defect prediction\n",
    "if 'dnn' in globals():\n",
    "    dnn.save(\"dnn_model.h5\")\n",
    "\n",
    "# If you have audio models (e.g., audio_logreg, audio_svm, audio_perc, audio_dnn, audio_vectorizer), save them too:\n",
    "try:\n",
    "    joblib.dump(audio_vectorizer, \"audio_vectorizer.pkl\")\n",
    "    joblib.dump(audio_logreg, \"audio_logreg_model.pkl\")\n",
    "    joblib.dump(audio_svm, \"audio_svm_model.pkl\")\n",
    "    joblib.dump(audio_perc, \"audio_perc_model.pkl\")\n",
    "    audio_dnn.save(\"audio_dnn_model.h5\")\n",
    "except Exception:\n",
    "    pass"
   ]
  },
  {
   "cell_type": "code",
   "execution_count": 65,
   "id": "bc6fc804",
   "metadata": {},
   "outputs": [
    {
     "name": "stdout",
     "output_type": "stream",
     "text": [
      "Epoch 1/20\n",
      "\u001b[1m13/13\u001b[0m \u001b[32m━━━━━━━━━━━━━━━━━━━━\u001b[0m\u001b[37m\u001b[0m \u001b[1m1s\u001b[0m 4ms/step - accuracy: 0.4143 - loss: 0.7485  \n",
      "Epoch 2/20\n",
      "\u001b[1m13/13\u001b[0m \u001b[32m━━━━━━━━━━━━━━━━━━━━\u001b[0m\u001b[37m\u001b[0m \u001b[1m1s\u001b[0m 4ms/step - accuracy: 0.4143 - loss: 0.7485  \n",
      "Epoch 2/20\n",
      "\u001b[1m13/13\u001b[0m \u001b[32m━━━━━━━━━━━━━━━━━━━━\u001b[0m\u001b[37m\u001b[0m \u001b[1m0s\u001b[0m 4ms/step - accuracy: 0.5407 - loss: 0.6985 \n",
      "Epoch 3/20\n",
      "\u001b[1m13/13\u001b[0m \u001b[32m━━━━━━━━━━━━━━━━━━━━\u001b[0m\u001b[37m\u001b[0m \u001b[1m0s\u001b[0m 4ms/step - accuracy: 0.5407 - loss: 0.6985 \n",
      "Epoch 3/20\n",
      "\u001b[1m13/13\u001b[0m \u001b[32m━━━━━━━━━━━━━━━━━━━━\u001b[0m\u001b[37m\u001b[0m \u001b[1m0s\u001b[0m 5ms/step - accuracy: 0.5471 - loss: 0.6903 \n",
      "Epoch 4/20\n",
      "\u001b[1m13/13\u001b[0m \u001b[32m━━━━━━━━━━━━━━━━━━━━\u001b[0m\u001b[37m\u001b[0m \u001b[1m0s\u001b[0m 5ms/step - accuracy: 0.5471 - loss: 0.6903 \n",
      "Epoch 4/20\n",
      "\u001b[1m13/13\u001b[0m \u001b[32m━━━━━━━━━━━━━━━━━━━━\u001b[0m\u001b[37m\u001b[0m \u001b[1m0s\u001b[0m 4ms/step - accuracy: 0.6520 - loss: 0.6470 \n",
      "Epoch 5/20\n",
      "\u001b[1m13/13\u001b[0m \u001b[32m━━━━━━━━━━━━━━━━━━━━\u001b[0m\u001b[37m\u001b[0m \u001b[1m0s\u001b[0m 4ms/step - accuracy: 0.6520 - loss: 0.6470 \n",
      "Epoch 5/20\n",
      "\u001b[1m13/13\u001b[0m \u001b[32m━━━━━━━━━━━━━━━━━━━━\u001b[0m\u001b[37m\u001b[0m \u001b[1m0s\u001b[0m 4ms/step - accuracy: 0.6438 - loss: 0.6590 \n",
      "Epoch 6/20\n",
      "\u001b[1m13/13\u001b[0m \u001b[32m━━━━━━━━━━━━━━━━━━━━\u001b[0m\u001b[37m\u001b[0m \u001b[1m0s\u001b[0m 4ms/step - accuracy: 0.6438 - loss: 0.6590 \n",
      "Epoch 6/20\n",
      "\u001b[1m13/13\u001b[0m \u001b[32m━━━━━━━━━━━━━━━━━━━━\u001b[0m\u001b[37m\u001b[0m \u001b[1m0s\u001b[0m 3ms/step - accuracy: 0.6526 - loss: 0.6465 \n",
      "Epoch 7/20\n",
      "\u001b[1m13/13\u001b[0m \u001b[32m━━━━━━━━━━━━━━━━━━━━\u001b[0m\u001b[37m\u001b[0m \u001b[1m0s\u001b[0m 3ms/step - accuracy: 0.6526 - loss: 0.6465 \n",
      "Epoch 7/20\n",
      "\u001b[1m13/13\u001b[0m \u001b[32m━━━━━━━━━━━━━━━━━━━━\u001b[0m\u001b[37m\u001b[0m \u001b[1m0s\u001b[0m 3ms/step - accuracy: 0.7466 - loss: 0.6219 \n",
      "Epoch 8/20\n",
      "\u001b[1m13/13\u001b[0m \u001b[32m━━━━━━━━━━━━━━━━━━━━\u001b[0m\u001b[37m\u001b[0m \u001b[1m0s\u001b[0m 3ms/step - accuracy: 0.7466 - loss: 0.6219 \n",
      "Epoch 8/20\n",
      "\u001b[1m13/13\u001b[0m \u001b[32m━━━━━━━━━━━━━━━━━━━━\u001b[0m\u001b[37m\u001b[0m \u001b[1m0s\u001b[0m 4ms/step - accuracy: 0.7061 - loss: 0.6087 \n",
      "Epoch 9/20\n",
      "\u001b[1m13/13\u001b[0m \u001b[32m━━━━━━━━━━━━━━━━━━━━\u001b[0m\u001b[37m\u001b[0m \u001b[1m0s\u001b[0m 4ms/step - accuracy: 0.7061 - loss: 0.6087 \n",
      "Epoch 9/20\n",
      "\u001b[1m13/13\u001b[0m \u001b[32m━━━━━━━━━━━━━━━━━━━━\u001b[0m\u001b[37m\u001b[0m \u001b[1m0s\u001b[0m 3ms/step - accuracy: 0.6998 - loss: 0.6056 \n",
      "Epoch 10/20\n",
      "\u001b[1m13/13\u001b[0m \u001b[32m━━━━━━━━━━━━━━━━━━━━\u001b[0m\u001b[37m\u001b[0m \u001b[1m0s\u001b[0m 3ms/step - accuracy: 0.6998 - loss: 0.6056 \n",
      "Epoch 10/20\n",
      "\u001b[1m13/13\u001b[0m \u001b[32m━━━━━━━━━━━━━━━━━━━━\u001b[0m\u001b[37m\u001b[0m \u001b[1m0s\u001b[0m 5ms/step - accuracy: 0.7234 - loss: 0.5745 \n",
      "Epoch 11/20\n",
      "\u001b[1m13/13\u001b[0m \u001b[32m━━━━━━━━━━━━━━━━━━━━\u001b[0m\u001b[37m\u001b[0m \u001b[1m0s\u001b[0m 5ms/step - accuracy: 0.7234 - loss: 0.5745 \n",
      "Epoch 11/20\n",
      "\u001b[1m13/13\u001b[0m \u001b[32m━━━━━━━━━━━━━━━━━━━━\u001b[0m\u001b[37m\u001b[0m \u001b[1m0s\u001b[0m 3ms/step - accuracy: 0.7222 - loss: 0.5972 \n",
      "Epoch 12/20\n",
      "\u001b[1m13/13\u001b[0m \u001b[32m━━━━━━━━━━━━━━━━━━━━\u001b[0m\u001b[37m\u001b[0m \u001b[1m0s\u001b[0m 3ms/step - accuracy: 0.7222 - loss: 0.5972 \n",
      "Epoch 12/20\n",
      "\u001b[1m13/13\u001b[0m \u001b[32m━━━━━━━━━━━━━━━━━━━━\u001b[0m\u001b[37m\u001b[0m \u001b[1m0s\u001b[0m 4ms/step - accuracy: 0.7131 - loss: 0.5564 \n",
      "Epoch 13/20\n",
      "\u001b[1m13/13\u001b[0m \u001b[32m━━━━━━━━━━━━━━━━━━━━\u001b[0m\u001b[37m\u001b[0m \u001b[1m0s\u001b[0m 4ms/step - accuracy: 0.7131 - loss: 0.5564 \n",
      "Epoch 13/20\n",
      "\u001b[1m13/13\u001b[0m \u001b[32m━━━━━━━━━━━━━━━━━━━━\u001b[0m\u001b[37m\u001b[0m \u001b[1m0s\u001b[0m 4ms/step - accuracy: 0.7887 - loss: 0.5515 \n",
      "Epoch 14/20\n",
      "\u001b[1m13/13\u001b[0m \u001b[32m━━━━━━━━━━━━━━━━━━━━\u001b[0m\u001b[37m\u001b[0m \u001b[1m0s\u001b[0m 4ms/step - accuracy: 0.7887 - loss: 0.5515 \n",
      "Epoch 14/20\n",
      "\u001b[1m13/13\u001b[0m \u001b[32m━━━━━━━━━━━━━━━━━━━━\u001b[0m\u001b[37m\u001b[0m \u001b[1m0s\u001b[0m 4ms/step - accuracy: 0.7742 - loss: 0.5461 \n",
      "Epoch 15/20\n",
      "\u001b[1m13/13\u001b[0m \u001b[32m━━━━━━━━━━━━━━━━━━━━\u001b[0m\u001b[37m\u001b[0m \u001b[1m0s\u001b[0m 4ms/step - accuracy: 0.7742 - loss: 0.5461 \n",
      "Epoch 15/20\n",
      "\u001b[1m13/13\u001b[0m \u001b[32m━━━━━━━━━━━━━━━━━━━━\u001b[0m\u001b[37m\u001b[0m \u001b[1m0s\u001b[0m 3ms/step - accuracy: 0.7683 - loss: 0.5677  \n",
      "Epoch 16/20\n",
      "\u001b[1m13/13\u001b[0m \u001b[32m━━━━━━━━━━━━━━━━━━━━\u001b[0m\u001b[37m\u001b[0m \u001b[1m0s\u001b[0m 3ms/step - accuracy: 0.7683 - loss: 0.5677  \n",
      "Epoch 16/20\n",
      "\u001b[1m13/13\u001b[0m \u001b[32m━━━━━━━━━━━━━━━━━━━━\u001b[0m\u001b[37m\u001b[0m \u001b[1m0s\u001b[0m 3ms/step - accuracy: 0.7184 - loss: 0.5763 \n",
      "Epoch 17/20\n",
      "\u001b[1m13/13\u001b[0m \u001b[32m━━━━━━━━━━━━━━━━━━━━\u001b[0m\u001b[37m\u001b[0m \u001b[1m0s\u001b[0m 3ms/step - accuracy: 0.7184 - loss: 0.5763 \n",
      "Epoch 17/20\n",
      "\u001b[1m13/13\u001b[0m \u001b[32m━━━━━━━━━━━━━━━━━━━━\u001b[0m\u001b[37m\u001b[0m \u001b[1m0s\u001b[0m 3ms/step - accuracy: 0.7844 - loss: 0.5347 \n",
      "Epoch 18/20\n",
      "\u001b[1m13/13\u001b[0m \u001b[32m━━━━━━━━━━━━━━━━━━━━\u001b[0m\u001b[37m\u001b[0m \u001b[1m0s\u001b[0m 3ms/step - accuracy: 0.7844 - loss: 0.5347 \n",
      "Epoch 18/20\n",
      "\u001b[1m13/13\u001b[0m \u001b[32m━━━━━━━━━━━━━━━━━━━━\u001b[0m\u001b[37m\u001b[0m \u001b[1m0s\u001b[0m 3ms/step - accuracy: 0.7690 - loss: 0.5464 \n",
      "Epoch 19/20\n",
      "\u001b[1m13/13\u001b[0m \u001b[32m━━━━━━━━━━━━━━━━━━━━\u001b[0m\u001b[37m\u001b[0m \u001b[1m0s\u001b[0m 3ms/step - accuracy: 0.7690 - loss: 0.5464 \n",
      "Epoch 19/20\n",
      "\u001b[1m13/13\u001b[0m \u001b[32m━━━━━━━━━━━━━━━━━━━━\u001b[0m\u001b[37m\u001b[0m \u001b[1m0s\u001b[0m 3ms/step - accuracy: 0.8054 - loss: 0.5110 \n",
      "Epoch 20/20\n",
      "\u001b[1m13/13\u001b[0m \u001b[32m━━━━━━━━━━━━━━━━━━━━\u001b[0m\u001b[37m\u001b[0m \u001b[1m0s\u001b[0m 3ms/step - accuracy: 0.8054 - loss: 0.5110 \n",
      "Epoch 20/20\n",
      "\u001b[1m13/13\u001b[0m \u001b[32m━━━━━━━━━━━━━━━━━━━━\u001b[0m\u001b[37m\u001b[0m \u001b[1m0s\u001b[0m 4ms/step - accuracy: 0.7710 - loss: 0.5143 \n",
      "\u001b[1m13/13\u001b[0m \u001b[32m━━━━━━━━━━━━━━━━━━━━\u001b[0m\u001b[37m\u001b[0m \u001b[1m0s\u001b[0m 4ms/step - accuracy: 0.7710 - loss: 0.5143 \n"
     ]
    },
    {
     "name": "stderr",
     "output_type": "stream",
     "text": [
      "WARNING:absl:You are saving your model as an HDF5 file via `model.save()` or `keras.saving.save_model(model)`. This file format is considered legacy. We recommend using instead the native Keras format, e.g. `model.save('my_model.keras')` or `keras.saving.save_model(model, 'my_model.keras')`. \n"
     ]
    },
    {
     "data": {
      "text/plain": [
       "['audio_vectorizer.pkl']"
      ]
     },
     "execution_count": 65,
     "metadata": {},
     "output_type": "execute_result"
    }
   ],
   "source": [
    "# --- AUDIO DEEPFAKE DETECTION TRAINING ---\n",
    "import os\n",
    "import librosa\n",
    "import numpy as np\n",
    "import joblib\n",
    "from sklearn.svm import SVC\n",
    "from sklearn.linear_model import LogisticRegression, Perceptron\n",
    "from sklearn.preprocessing import StandardScaler\n",
    "from tensorflow.keras import models, layers\n",
    "\n",
    "# Prepare audio dataset\n",
    "AUDIO_DIR = \"urdu_audio_100\"\n",
    "audio_files = sorted([f for f in os.listdir(AUDIO_DIR) if f.endswith('.wav')])\n",
    "X_audio = []\n",
    "y_audio = []\n",
    "# Example: first 50 bonafide (0), next 50 deepfake (1)\n",
    "for idx, fname in enumerate(audio_files):\n",
    "    path = os.path.join(AUDIO_DIR, fname)\n",
    "    audio, sr = librosa.load(path, sr=None)\n",
    "    mfcc = librosa.feature.mfcc(y=audio, sr=sr, n_mfcc=13)\n",
    "    mfcc_mean = np.mean(mfcc, axis=1)\n",
    "    X_audio.append(mfcc_mean)\n",
    "    y_audio.append(0 if idx < 50 else 1)\n",
    "X_audio = np.array(X_audio)\n",
    "y_audio = np.array(y_audio)\n",
    "\n",
    "# Scale features\n",
    "audio_scaler = StandardScaler()\n",
    "X_audio_scaled = audio_scaler.fit_transform(X_audio)\n",
    "\n",
    "# SVM\n",
    "audio_svm = SVC(probability=True)\n",
    "audio_svm.fit(X_audio_scaled, y_audio)\n",
    "joblib.dump(audio_svm, \"audio_svm_model.pkl\")\n",
    "\n",
    "# Logistic Regression\n",
    "audio_logreg = LogisticRegression()\n",
    "audio_logreg.fit(X_audio_scaled, y_audio)\n",
    "joblib.dump(audio_logreg, \"audio_logreg_model.pkl\")\n",
    "\n",
    "# Perceptron\n",
    "audio_perc = Perceptron()\n",
    "audio_perc.fit(X_audio_scaled, y_audio)\n",
    "joblib.dump(audio_perc, \"audio_perc_model.pkl\")\n",
    "\n",
    "# DNN\n",
    "audio_dnn = models.Sequential([\n",
    "    layers.Input(shape=(X_audio_scaled.shape[1],)),\n",
    "    layers.Dense(32, activation='relu'),\n",
    "    layers.Dense(1, activation='sigmoid')\n",
    "])\n",
    "audio_dnn.compile(optimizer='adam', loss='binary_crossentropy', metrics=['accuracy'])\n",
    "audio_dnn.fit(X_audio_scaled, y_audio, epochs=20, batch_size=8, verbose=1)\n",
    "audio_dnn.save(\"audio_dnn_model.h5\")\n",
    "\n",
    "# Save scaler for use in app.py\n",
    "joblib.dump(audio_scaler, \"audio_vectorizer.pkl\")"
   ]
  }
 ],
 "metadata": {
  "kernelspec": {
   "display_name": "Python 3",
   "language": "python",
   "name": "python3"
  },
  "language_info": {
   "codemirror_mode": {
    "name": "ipython",
    "version": 3
   },
   "file_extension": ".py",
   "mimetype": "text/x-python",
   "name": "python",
   "nbconvert_exporter": "python",
   "pygments_lexer": "ipython3",
   "version": "3.10.0"
  }
 },
 "nbformat": 4,
 "nbformat_minor": 5
}
